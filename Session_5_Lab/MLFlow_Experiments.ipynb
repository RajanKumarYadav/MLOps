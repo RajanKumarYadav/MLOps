{
 "cells": [
  {
   "cell_type": "markdown",
   "id": "0db012d2-2f17-464a-ba65-ffe3b87edf8f",
   "metadata": {},
   "source": [
    "# Host Model via MLFlow Server, Load Model and use hosted model"
   ]
  },
  {
   "cell_type": "code",
   "execution_count": 12,
   "id": "b9bc546a-e975-438e-80f5-4c913ff8fc07",
   "metadata": {},
   "outputs": [],
   "source": [
    "# Start MLFlow UI\n",
    "# mlflow ui"
   ]
  },
  {
   "cell_type": "code",
   "execution_count": 14,
   "id": "4f354890-b6ca-4e9b-a0be-3e3cbf46a70d",
   "metadata": {},
   "outputs": [],
   "source": [
    "# Start the MLFlow Server\n",
    "# mlflow server --host 0.0.0.0 --port 5000"
   ]
  },
  {
   "cell_type": "code",
   "execution_count": 22,
   "id": "7746bc77-3648-4516-ac67-1c8caefb68e0",
   "metadata": {},
   "outputs": [],
   "source": [
    "# Host and load the model to MLFlow Server \n",
    "# mlflow models serve --model-uri runs:/203ab8be70d24f8486d67c0ae042cfae/model --port 5021 --no-conda"
   ]
  },
  {
   "cell_type": "code",
   "execution_count": 1,
   "id": "3047a0e8-a1ff-444e-aaef-8e8b3c6f332e",
   "metadata": {},
   "outputs": [],
   "source": [
    "# If you're using the MLflow Python client, you typically set the tracking URI like this:\n",
    "import mlflow \n",
    "mlflow.set_tracking_uri(\"http://locahost:5000\")"
   ]
  },
  {
   "cell_type": "code",
   "execution_count": 3,
   "id": "f7a30f34-db94-4a11-891e-d593c55e8d12",
   "metadata": {},
   "outputs": [
    {
     "name": "stdout",
     "output_type": "stream",
     "text": [
      "Predictions: {\"predictions\": [0]}\n"
     ]
    }
   ],
   "source": [
    "import requests\n",
    "import json\n",
    "\n",
    "# Define the URL and headers\n",
    "host = '127.0.0.1'\n",
    "port = '5021'\n",
    "mlflow_server_url = f'http://{host}:{port}/invocations'\n",
    "headers = {'Content-Type': 'application/json'}\n",
    "\n",
    "# Define the input data in the format expected by MLflow 2.0\n",
    "data = {\n",
    "    \"instances\": [\n",
    "        [1, 89, 66, 23, 94, 28.1, 0.167, 50]\n",
    "    ]\n",
    "}\n",
    "\n",
    "# Convert the input data to JSON format\n",
    "http_data = json.dumps(data)\n",
    "\n",
    "# Make the POST request\n",
    "response = requests.post(url=mlflow_server_url, headers=headers, data=http_data)\n",
    "\n",
    "# Print the response\n",
    "print(f'Predictions: {response.text}')\n"
   ]
  },
  {
   "cell_type": "code",
   "execution_count": null,
   "id": "715d3fff-0b00-4925-a2f0-2b28054cbda6",
   "metadata": {},
   "outputs": [],
   "source": []
  },
  {
   "cell_type": "code",
   "execution_count": null,
   "id": "4be3f0d3-7e82-47d9-82fc-38a5f8d0f769",
   "metadata": {},
   "outputs": [],
   "source": []
  }
 ],
 "metadata": {
  "kernelspec": {
   "display_name": "Python 3 (ipykernel)",
   "language": "python",
   "name": "python3"
  },
  "language_info": {
   "codemirror_mode": {
    "name": "ipython",
    "version": 3
   },
   "file_extension": ".py",
   "mimetype": "text/x-python",
   "name": "python",
   "nbconvert_exporter": "python",
   "pygments_lexer": "ipython3",
   "version": "3.11.7"
  }
 },
 "nbformat": 4,
 "nbformat_minor": 5
}
